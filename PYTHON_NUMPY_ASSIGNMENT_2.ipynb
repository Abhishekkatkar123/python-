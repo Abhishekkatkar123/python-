{
  "cells": [
    {
      "cell_type": "markdown",
      "metadata": {
        "id": "view-in-github",
        "colab_type": "text"
      },
      "source": [
        "<a href=\"https://colab.research.google.com/github/Abhishekkatkar123/python-/blob/main/PYTHON_NUMPY_ASSIGNMENT_2.ipynb\" target=\"_parent\"><img src=\"https://colab.research.google.com/assets/colab-badge.svg\" alt=\"Open In Colab\"/></a>"
      ]
    },
    {
      "cell_type": "code",
      "execution_count": null,
      "id": "3eb5142d",
      "metadata": {
        "id": "3eb5142d",
        "outputId": "77208790-01c5-4034-8735-a754a43db7e0"
      },
      "outputs": [
        {
          "name": "stdout",
          "output_type": "stream",
          "text": [
            "[ 0  2  4  6  8 10 12 14 16 18 20 22 24 26 28 30 32 34 36 38 40 42 44 46\n",
            " 48 50 52 54 56 58 60 62 64 66 68 70 72 74 76 78 80 82 84 86 88 90 92 94\n",
            " 96 98]\n"
          ]
        }
      ],
      "source": [
        "#seq from 0 to 100 with gaps of 2 using arage function\n",
        "import numpy as np\n",
        "arr=np.arange(0,100,2)\n",
        "print(arr)"
      ]
    },
    {
      "cell_type": "code",
      "execution_count": null,
      "id": "3efe8e5a",
      "metadata": {
        "id": "3efe8e5a",
        "outputId": "5c3491c5-57b6-4fd2-9a91-d847769e1a06"
      },
      "outputs": [
        {
          "name": "stdout",
          "output_type": "stream",
          "text": [
            "[1 2 3 4 5 6 7 8 9 0]\n"
          ]
        }
      ],
      "source": [
        "#vector is 1d array\n",
        "#argmax() to find max element\n",
        "arr_vector=np.array([1,2,3,4,5,6,7,8,9,10])\n",
        "max_index=arr_vector.argmax()\n",
        "arr_vector[max_index]=0\n",
        "print(arr_vector)\n"
      ]
    },
    {
      "cell_type": "code",
      "execution_count": null,
      "id": "8eb026d9",
      "metadata": {
        "id": "8eb026d9",
        "outputId": "a7cf1a23-ceaa-498e-c1cf-6c922a4990ec"
      },
      "outputs": [
        {
          "name": "stdout",
          "output_type": "stream",
          "text": [
            "[[4.8 3.4 1.6 0.2 0. ]\n",
            " [4.8 3.4 1.9 0.2 0. ]\n",
            " [4.7 3.2 1.6 0.2 0. ]\n",
            " [4.8 3.1 1.6 0.2 0. ]\n",
            " [4.9 2.4 3.3 1.  1. ]\n",
            " [4.9 2.5 4.5 1.7 2. ]]\n"
          ]
        }
      ],
      "source": [
        "#iris data\n",
        "iris_data=np.genfromtxt('iris.csv',delimiter=',',skip_header=1)\n",
        "data=iris_data[(iris_data[:,2]>1.5)& (iris_data[:,0]<5.0)]\n",
        "print(data)"
      ]
    },
    {
      "cell_type": "code",
      "execution_count": null,
      "id": "4767a6f2",
      "metadata": {
        "id": "4767a6f2",
        "outputId": "90f6b1b2-029a-4800-9f6d-a7efdbbc51fa"
      },
      "outputs": [
        {
          "name": "stdout",
          "output_type": "stream",
          "text": [
            "4.3\n",
            "7.9\n",
            "0.8253012917851409\n"
          ]
        }
      ],
      "source": [
        "sepal_length=iris_data[:,0]\n",
        "mim=np.min(sepal_length)\n",
        "maxx=np.max(sepal_length)\n",
        "sd=np.std(sepal_length)\n",
        "print(mim)\n",
        "print(maxx)\n",
        "print(sd)"
      ]
    },
    {
      "cell_type": "code",
      "execution_count": null,
      "id": "3e38edd2",
      "metadata": {
        "id": "3e38edd2",
        "outputId": "21ac07be-46ac-4b52-b262-e9901fa5356c"
      },
      "outputs": [
        {
          "name": "stdout",
          "output_type": "stream",
          "text": [
            "[0.22222222 0.16666667 0.11111111 0.08333333 0.19444444 0.30555556\n",
            " 0.08333333 0.19444444 0.02777778 0.16666667 0.30555556 0.13888889\n",
            " 0.13888889 0.         0.41666667 0.38888889 0.30555556 0.22222222\n",
            " 0.38888889 0.22222222 0.30555556 0.22222222 0.08333333 0.22222222\n",
            " 0.13888889 0.19444444 0.19444444 0.25       0.25       0.11111111\n",
            " 0.13888889 0.30555556 0.25       0.33333333 0.16666667 0.19444444\n",
            " 0.33333333 0.16666667 0.02777778 0.22222222 0.19444444 0.05555556\n",
            " 0.02777778 0.19444444 0.22222222 0.13888889 0.22222222 0.08333333\n",
            " 0.27777778 0.19444444 0.75       0.58333333 0.72222222 0.33333333\n",
            " 0.61111111 0.38888889 0.55555556 0.16666667 0.63888889 0.25\n",
            " 0.19444444 0.44444444 0.47222222 0.5        0.36111111 0.66666667\n",
            " 0.36111111 0.41666667 0.52777778 0.36111111 0.44444444 0.5\n",
            " 0.55555556 0.5        0.58333333 0.63888889 0.69444444 0.66666667\n",
            " 0.47222222 0.38888889 0.33333333 0.33333333 0.41666667 0.47222222\n",
            " 0.30555556 0.47222222 0.66666667 0.55555556 0.36111111 0.33333333\n",
            " 0.33333333 0.5        0.41666667 0.19444444 0.36111111 0.38888889\n",
            " 0.38888889 0.52777778 0.22222222 0.38888889 0.55555556 0.41666667\n",
            " 0.77777778 0.55555556 0.61111111 0.91666667 0.16666667 0.83333333\n",
            " 0.66666667 0.80555556 0.61111111 0.58333333 0.69444444 0.38888889\n",
            " 0.41666667 0.58333333 0.61111111 0.94444444 0.94444444 0.47222222\n",
            " 0.72222222 0.36111111 0.94444444 0.55555556 0.66666667 0.80555556\n",
            " 0.52777778 0.5        0.58333333 0.80555556 0.86111111 1.\n",
            " 0.58333333 0.55555556 0.5        0.94444444 0.55555556 0.58333333\n",
            " 0.47222222 0.72222222 0.66666667 0.72222222 0.41666667 0.69444444\n",
            " 0.66666667 0.66666667 0.55555556 0.61111111 0.52777778 0.44444444]\n"
          ]
        }
      ],
      "source": [
        "#normaize between 0 and 1 using min max scaling formula\n",
        "#length-min.length/max.length-min.length\n",
        "sepal_length=iris_data[:,0]\n",
        "normalized=(sepal_length-np.min(sepal_length))/(np.max(sepal_length)-np.min(sepal_length))\n",
        "print(normalized)"
      ]
    },
    {
      "cell_type": "code",
      "execution_count": null,
      "id": "d8dae579",
      "metadata": {
        "id": "d8dae579",
        "outputId": "6eab107f-cd40-451c-ee27-fa10ca3a5325"
      },
      "outputs": [
        {
          "name": "stdout",
          "output_type": "stream",
          "text": [
            "Petal Length with Null Values:\n",
            "[1.4 1.4 1.3 1.5 1.4 1.7 1.4 1.5 1.4 1.5 nan 1.6 1.4 nan 1.2 1.5 1.3 1.4\n",
            " 1.7 1.5 1.7 1.5 1.  1.7 1.9 nan 1.6 1.5 1.4 1.6 1.6 1.5 1.5 1.4 1.5 1.2\n",
            " 1.3 1.4 1.3 1.5 1.3 1.3 1.3 1.6 1.9 1.4 nan 1.4 1.5 1.4 4.7 4.5 4.9 4.\n",
            " 4.6 4.5 4.7 3.3 4.6 3.9 3.5 4.2 4.  4.7 3.6 4.4 4.5 4.1 4.5 3.9 4.8 4.\n",
            " 4.9 nan nan 4.4 4.8 nan 4.5 3.5 3.8 3.7 3.9 5.1 4.5 4.5 4.7 4.4 4.1 4.\n",
            " nan 4.6 4.  nan 4.2 4.2 4.2 4.3 3.  4.1 6.  5.1 5.9 5.6 5.8 6.6 4.5 6.3\n",
            " 5.8 6.1 5.1 5.3 nan 5.  5.1 5.3 5.5 6.7 6.9 5.  5.7 4.9 6.7 4.9 5.7 6.\n",
            " nan 4.9 5.6 5.8 6.1 6.4 5.6 5.1 5.6 6.1 5.6 5.5 4.8 nan 5.6 nan 5.1 5.9\n",
            " nan 5.2 5.  5.2 5.4 nan]\n"
          ]
        }
      ],
      "source": [
        "\n",
        "petal_length_column = iris_data[:, 2]\n",
        "\n",
        "# Randomly insert null values\n",
        "null_indices = np.random.choice(len(petal_length_column), size=int(0.1 * len(petal_length_column)), replace=False)\n",
        "petal_length_column[null_indices] = np.nan\n",
        "\n",
        "# Print the array with null values\n",
        "print(\"Petal Length with Null Values:\")\n",
        "print(petal_length_column)"
      ]
    },
    {
      "cell_type": "code",
      "execution_count": null,
      "id": "ce2faca5",
      "metadata": {
        "id": "ce2faca5",
        "outputId": "8c07a377-b7d9-40e4-a9bd-b76a9f6d11a5"
      },
      "outputs": [
        {
          "name": "stdout",
          "output_type": "stream",
          "text": [
            "(array([ 10,  13,  25,  46,  73,  74,  77,  90,  93, 112, 126, 139, 141,\n",
            "       144, 149]),)\n"
          ]
        }
      ],
      "source": [
        "#missing values\n",
        "missing_value=np.where(np.isnan(petal_length_column))\n",
        "print(missing_value)"
      ]
    },
    {
      "cell_type": "code",
      "execution_count": null,
      "id": "cd721592",
      "metadata": {
        "id": "cd721592",
        "outputId": "f4b5364e-f812-47e7-edc7-471dd192d035"
      },
      "outputs": [
        {
          "name": "stdout",
          "output_type": "stream",
          "text": [
            "Iris Data without Rows Containing Null Values:\n",
            "[[5.1 3.5 1.4 0.2 0. ]\n",
            " [4.9 3.  1.4 0.2 0. ]\n",
            " [4.7 3.2 1.3 0.2 0. ]\n",
            " [4.6 3.1 1.5 0.2 0. ]\n",
            " [5.  3.6 1.4 0.2 0. ]\n",
            " [5.4 3.9 1.7 0.4 0. ]\n",
            " [4.6 3.4 1.4 0.3 0. ]\n",
            " [5.  3.4 1.5 0.2 0. ]\n",
            " [4.4 2.9 1.4 0.2 0. ]\n",
            " [4.9 3.1 1.5 0.1 0. ]\n",
            " [4.8 3.4 1.6 0.2 0. ]\n",
            " [4.8 3.  1.4 0.1 0. ]\n",
            " [5.8 4.  1.2 0.2 0. ]\n",
            " [5.7 4.4 1.5 0.4 0. ]\n",
            " [5.4 3.9 1.3 0.4 0. ]\n",
            " [5.1 3.5 1.4 0.3 0. ]\n",
            " [5.7 3.8 1.7 0.3 0. ]\n",
            " [5.1 3.8 1.5 0.3 0. ]\n",
            " [5.4 3.4 1.7 0.2 0. ]\n",
            " [5.1 3.7 1.5 0.4 0. ]\n",
            " [4.6 3.6 1.  0.2 0. ]\n",
            " [5.1 3.3 1.7 0.5 0. ]\n",
            " [4.8 3.4 1.9 0.2 0. ]\n",
            " [5.  3.4 1.6 0.4 0. ]\n",
            " [5.2 3.5 1.5 0.2 0. ]\n",
            " [5.2 3.4 1.4 0.2 0. ]\n",
            " [4.7 3.2 1.6 0.2 0. ]\n",
            " [4.8 3.1 1.6 0.2 0. ]\n",
            " [5.4 3.4 1.5 0.4 0. ]\n",
            " [5.2 4.1 1.5 0.1 0. ]\n",
            " [5.5 4.2 1.4 0.2 0. ]\n",
            " [4.9 3.1 1.5 0.2 0. ]\n",
            " [5.  3.2 1.2 0.2 0. ]\n",
            " [5.5 3.5 1.3 0.2 0. ]\n",
            " [4.9 3.6 1.4 0.1 0. ]\n",
            " [4.4 3.  1.3 0.2 0. ]\n",
            " [5.1 3.4 1.5 0.2 0. ]\n",
            " [5.  3.5 1.3 0.3 0. ]\n",
            " [4.5 2.3 1.3 0.3 0. ]\n",
            " [4.4 3.2 1.3 0.2 0. ]\n",
            " [5.  3.5 1.6 0.6 0. ]\n",
            " [5.1 3.8 1.9 0.4 0. ]\n",
            " [4.8 3.  1.4 0.3 0. ]\n",
            " [4.6 3.2 1.4 0.2 0. ]\n",
            " [5.3 3.7 1.5 0.2 0. ]\n",
            " [5.  3.3 1.4 0.2 0. ]\n",
            " [7.  3.2 4.7 1.4 1. ]\n",
            " [6.4 3.2 4.5 1.5 1. ]\n",
            " [6.9 3.1 4.9 1.5 1. ]\n",
            " [5.5 2.3 4.  1.3 1. ]\n",
            " [6.5 2.8 4.6 1.5 1. ]\n",
            " [5.7 2.8 4.5 1.3 1. ]\n",
            " [6.3 3.3 4.7 1.6 1. ]\n",
            " [4.9 2.4 3.3 1.  1. ]\n",
            " [6.6 2.9 4.6 1.3 1. ]\n",
            " [5.2 2.7 3.9 1.4 1. ]\n",
            " [5.  2.  3.5 1.  1. ]\n",
            " [5.9 3.  4.2 1.5 1. ]\n",
            " [6.  2.2 4.  1.  1. ]\n",
            " [6.1 2.9 4.7 1.4 1. ]\n",
            " [5.6 2.9 3.6 1.3 1. ]\n",
            " [6.7 3.1 4.4 1.4 1. ]\n",
            " [5.6 3.  4.5 1.5 1. ]\n",
            " [5.8 2.7 4.1 1.  1. ]\n",
            " [6.2 2.2 4.5 1.5 1. ]\n",
            " [5.6 2.5 3.9 1.1 1. ]\n",
            " [5.9 3.2 4.8 1.8 1. ]\n",
            " [6.1 2.8 4.  1.3 1. ]\n",
            " [6.3 2.5 4.9 1.5 1. ]\n",
            " [6.6 3.  4.4 1.4 1. ]\n",
            " [6.8 2.8 4.8 1.4 1. ]\n",
            " [6.  2.9 4.5 1.5 1. ]\n",
            " [5.7 2.6 3.5 1.  1. ]\n",
            " [5.5 2.4 3.8 1.1 1. ]\n",
            " [5.5 2.4 3.7 1.  1. ]\n",
            " [5.8 2.7 3.9 1.2 1. ]\n",
            " [6.  2.7 5.1 1.6 1. ]\n",
            " [5.4 3.  4.5 1.5 1. ]\n",
            " [6.  3.4 4.5 1.6 1. ]\n",
            " [6.7 3.1 4.7 1.5 1. ]\n",
            " [6.3 2.3 4.4 1.3 1. ]\n",
            " [5.6 3.  4.1 1.3 1. ]\n",
            " [5.5 2.5 4.  1.3 1. ]\n",
            " [6.1 3.  4.6 1.4 1. ]\n",
            " [5.8 2.6 4.  1.2 1. ]\n",
            " [5.6 2.7 4.2 1.3 1. ]\n",
            " [5.7 3.  4.2 1.2 1. ]\n",
            " [5.7 2.9 4.2 1.3 1. ]\n",
            " [6.2 2.9 4.3 1.3 1. ]\n",
            " [5.1 2.5 3.  1.1 1. ]\n",
            " [5.7 2.8 4.1 1.3 1. ]\n",
            " [6.3 3.3 6.  2.5 2. ]\n",
            " [5.8 2.7 5.1 1.9 2. ]\n",
            " [7.1 3.  5.9 2.1 2. ]\n",
            " [6.3 2.9 5.6 1.8 2. ]\n",
            " [6.5 3.  5.8 2.2 2. ]\n",
            " [7.6 3.  6.6 2.1 2. ]\n",
            " [4.9 2.5 4.5 1.7 2. ]\n",
            " [7.3 2.9 6.3 1.8 2. ]\n",
            " [6.7 2.5 5.8 1.8 2. ]\n",
            " [7.2 3.6 6.1 2.5 2. ]\n",
            " [6.5 3.2 5.1 2.  2. ]\n",
            " [6.4 2.7 5.3 1.9 2. ]\n",
            " [5.7 2.5 5.  2.  2. ]\n",
            " [5.8 2.8 5.1 2.4 2. ]\n",
            " [6.4 3.2 5.3 2.3 2. ]\n",
            " [6.5 3.  5.5 1.8 2. ]\n",
            " [7.7 3.8 6.7 2.2 2. ]\n",
            " [7.7 2.6 6.9 2.3 2. ]\n",
            " [6.  2.2 5.  1.5 2. ]\n",
            " [6.9 3.2 5.7 2.3 2. ]\n",
            " [5.6 2.8 4.9 2.  2. ]\n",
            " [7.7 2.8 6.7 2.  2. ]\n",
            " [6.3 2.7 4.9 1.8 2. ]\n",
            " [6.7 3.3 5.7 2.1 2. ]\n",
            " [7.2 3.2 6.  1.8 2. ]\n",
            " [6.1 3.  4.9 1.8 2. ]\n",
            " [6.4 2.8 5.6 2.1 2. ]\n",
            " [7.2 3.  5.8 1.6 2. ]\n",
            " [7.4 2.8 6.1 1.9 2. ]\n",
            " [7.9 3.8 6.4 2.  2. ]\n",
            " [6.4 2.8 5.6 2.2 2. ]\n",
            " [6.3 2.8 5.1 1.5 2. ]\n",
            " [6.1 2.6 5.6 1.4 2. ]\n",
            " [7.7 3.  6.1 2.3 2. ]\n",
            " [6.3 3.4 5.6 2.4 2. ]\n",
            " [6.4 3.1 5.5 1.8 2. ]\n",
            " [6.  3.  4.8 1.8 2. ]\n",
            " [6.7 3.1 5.6 2.4 2. ]\n",
            " [5.8 2.7 5.1 1.9 2. ]\n",
            " [6.8 3.2 5.9 2.3 2. ]\n",
            " [6.7 3.  5.2 2.3 2. ]\n",
            " [6.3 2.5 5.  1.9 2. ]\n",
            " [6.5 3.  5.2 2.  2. ]\n",
            " [6.2 3.4 5.4 2.3 2. ]]\n"
          ]
        }
      ],
      "source": [
        "#removing null values column\n",
        "\n",
        "# Assuming iris_data is already loaded\n",
        "iris_data_no_null = iris_data[~np.isnan(iris_data).any(axis=1)]\n",
        "\n",
        "# Print the resulting array\n",
        "print(\"Iris Data without Rows Containing Null Values:\")\n",
        "print(iris_data_no_null)"
      ]
    },
    {
      "cell_type": "code",
      "execution_count": null,
      "id": "5f05822f",
      "metadata": {
        "id": "5f05822f",
        "outputId": "afe3427f-7ece-45b3-ddc1-f9ba67de7ce0"
      },
      "outputs": [
        {
          "name": "stdout",
          "output_type": "stream",
          "text": [
            "(array([0. , 0.1, 0.2, 0.3, 0.4, 0.5, 0.6, 1. , 1.1, 1.2, 1.3, 1.4, 1.5,\n",
            "       1.6, 1.7, 1.8, 1.9, 2. , 2.1, 2.2, 2.3, 2.4, 2.5, 2.6, 2.7, 2.8,\n",
            "       2.9, 3. , 3.1, 3.2, 3.3, 3.4, 3.5, 3.6, 3.7, 3.8, 3.9, 4. , 4.1,\n",
            "       4.2, 4.3, 4.4, 4.5, 4.6, 4.7, 4.8, 4.9, 5. , 5.1, 5.2, 5.3, 5.4,\n",
            "       5.5, 5.6, 5.7, 5.8, 5.9, 6. , 6.1, 6.2, 6.3, 6.4, 6.5, 6.6, 6.7,\n",
            "       6.8, 6.9, 7. , 7.1, 7.2, 7.3, 7.4, 7.6, 7.7, 7.9, nan]), array([50,  5, 29,  7,  7,  1,  1, 58,  3,  7, 20, 21, 24,  9,  6, 12,  7,\n",
            "       57,  6,  6, 12,  6, 11,  5,  9, 14, 10, 27, 11, 13,  7, 12,  8,  5,\n",
            "        4,  7,  5,  6,  4,  5,  2,  7,  9,  7,  6,  8, 11, 13, 15,  6,  3,\n",
            "        7,  9, 12, 10, 10,  5,  8,  9,  4, 10,  8,  5,  3, 10,  3,  5,  1,\n",
            "        1,  3,  1,  1,  1,  4,  1, 15]))\n"
          ]
        }
      ],
      "source": [
        "unique=np.unique(iris_data,return_counts=True)\n",
        "print(unique)"
      ]
    },
    {
      "cell_type": "code",
      "execution_count": null,
      "id": "cbf72c2a",
      "metadata": {
        "id": "cbf72c2a",
        "outputId": "f47b0b41-dcb7-462d-fc4a-7f376ea79a97"
      },
      "outputs": [
        {
          "name": "stdout",
          "output_type": "stream",
          "text": [
            "Number of Rows per Species:\n",
            "{0.0: 50, 1.0: 50, 2.0: 50}\n"
          ]
        }
      ],
      "source": [
        "\n",
        "\n",
        "# Assuming iris_data is already loaded\n",
        "species_column = iris_data[:, -1]  # Assuming the species column is the last column\n",
        "\n",
        "# Count number of rows per species using numpy\n",
        "unique_species, counts = np.unique(species_column, return_counts=True)\n",
        "\n",
        "# Create a dictionary to display the counts for each unique species\n",
        "species_counts = dict(zip(unique_species, counts))\n",
        "\n",
        "# Print the counts\n",
        "print(\"Number of Rows per Species:\")\n",
        "print(species_counts)"
      ]
    },
    {
      "cell_type": "code",
      "execution_count": null,
      "id": "2fa45d7e",
      "metadata": {
        "id": "2fa45d7e"
      },
      "outputs": [],
      "source": []
    }
  ],
  "metadata": {
    "kernelspec": {
      "display_name": "Python 3 (ipykernel)",
      "language": "python",
      "name": "python3"
    },
    "language_info": {
      "codemirror_mode": {
        "name": "ipython",
        "version": 3
      },
      "file_extension": ".py",
      "mimetype": "text/x-python",
      "name": "python",
      "nbconvert_exporter": "python",
      "pygments_lexer": "ipython3",
      "version": "3.9.13"
    },
    "colab": {
      "provenance": [],
      "include_colab_link": true
    }
  },
  "nbformat": 4,
  "nbformat_minor": 5
}